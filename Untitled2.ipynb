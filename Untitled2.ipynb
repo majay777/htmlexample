{
  "nbformat": 4,
  "nbformat_minor": 0,
  "metadata": {
    "colab": {
      "name": "Untitled2.ipynb",
      "provenance": [],
      "authorship_tag": "ABX9TyO0JBvOt1mQyh3ysKwO1Ori",
      "include_colab_link": true
    },
    "kernelspec": {
      "name": "python3",
      "display_name": "Python 3"
    },
    "language_info": {
      "name": "python"
    }
  },
  "cells": [
    {
      "cell_type": "markdown",
      "metadata": {
        "id": "view-in-github",
        "colab_type": "text"
      },
      "source": [
        "<a href=\"https://colab.research.google.com/github/majay777/htmlexample/blob/main/Untitled2.ipynb\" target=\"_parent\"><img src=\"https://colab.research.google.com/assets/colab-badge.svg\" alt=\"Open In Colab\"/></a>"
      ]
    },
    {
      "cell_type": "code",
      "metadata": {
        "id": "CYgNyfboW9pm"
      },
      "source": [
        "import pandas as pd\n"
      ],
      "execution_count": null,
      "outputs": []
    },
    {
      "cell_type": "code",
      "metadata": {
        "id": "YsznE5-VXHy-"
      },
      "source": [
        "df = pd.read_csv(\"/content/MarketArrivals.csv\")"
      ],
      "execution_count": null,
      "outputs": []
    },
    {
      "cell_type": "code",
      "metadata": {
        "colab": {
          "base_uri": "https://localhost:8080/"
        },
        "id": "Log6xeiUXO57",
        "outputId": "e15c09b7-bd75-4a76-ae30-4b34b386bfb0"
      },
      "source": [
        "df.index"
      ],
      "execution_count": null,
      "outputs": [
        {
          "output_type": "execute_result",
          "data": {
            "text/plain": [
              "RangeIndex(start=0, stop=10227, step=1)"
            ]
          },
          "metadata": {
            "tags": []
          },
          "execution_count": 107
        }
      ]
    },
    {
      "cell_type": "code",
      "metadata": {
        "colab": {
          "base_uri": "https://localhost:8080/"
        },
        "id": "1X_OgANnXbfI",
        "outputId": "ea3e34fb-7b57-4926-d9bc-ed2b1b1a0fe1"
      },
      "source": [
        "df.columns"
      ],
      "execution_count": null,
      "outputs": [
        {
          "output_type": "execute_result",
          "data": {
            "text/plain": [
              "Index(['market', 'month', 'year', 'quantity', 'priceMin', 'priceMax',\n",
              "       'priceMod', 'state', 'city', 'date'],\n",
              "      dtype='object')"
            ]
          },
          "metadata": {
            "tags": []
          },
          "execution_count": 108
        }
      ]
    },
    {
      "cell_type": "code",
      "metadata": {
        "colab": {
          "base_uri": "https://localhost:8080/"
        },
        "id": "W62c-yBgXeMc",
        "outputId": "f4e8109c-d801-42d7-84d5-c679639d1ecb"
      },
      "source": [
        "df['market'].value_counts().head(1)"
      ],
      "execution_count": null,
      "outputs": [
        {
          "output_type": "execute_result",
          "data": {
            "text/plain": [
              "LASALGAON(MS)    242\n",
              "Name: market, dtype: int64"
            ]
          },
          "metadata": {
            "tags": []
          },
          "execution_count": 109
        }
      ]
    },
    {
      "cell_type": "code",
      "metadata": {
        "colab": {
          "base_uri": "https://localhost:8080/",
          "height": 555
        },
        "id": "Ysosg7ESXqwE",
        "outputId": "8dcefa69-83bb-463d-9856-8e977f140684"
      },
      "source": [
        "df['market','quantity'].value_counts()"
      ],
      "execution_count": null,
      "outputs": [
        {
          "output_type": "error",
          "ename": "KeyError",
          "evalue": "ignored",
          "traceback": [
            "\u001b[0;31m---------------------------------------------------------------------------\u001b[0m",
            "\u001b[0;31mKeyError\u001b[0m                                  Traceback (most recent call last)",
            "\u001b[0;32m/usr/local/lib/python3.7/dist-packages/pandas/core/indexes/base.py\u001b[0m in \u001b[0;36mget_loc\u001b[0;34m(self, key, method, tolerance)\u001b[0m\n\u001b[1;32m   2897\u001b[0m             \u001b[0;32mtry\u001b[0m\u001b[0;34m:\u001b[0m\u001b[0;34m\u001b[0m\u001b[0;34m\u001b[0m\u001b[0m\n\u001b[0;32m-> 2898\u001b[0;31m                 \u001b[0;32mreturn\u001b[0m \u001b[0mself\u001b[0m\u001b[0;34m.\u001b[0m\u001b[0m_engine\u001b[0m\u001b[0;34m.\u001b[0m\u001b[0mget_loc\u001b[0m\u001b[0;34m(\u001b[0m\u001b[0mcasted_key\u001b[0m\u001b[0;34m)\u001b[0m\u001b[0;34m\u001b[0m\u001b[0;34m\u001b[0m\u001b[0m\n\u001b[0m\u001b[1;32m   2899\u001b[0m             \u001b[0;32mexcept\u001b[0m \u001b[0mKeyError\u001b[0m \u001b[0;32mas\u001b[0m \u001b[0merr\u001b[0m\u001b[0;34m:\u001b[0m\u001b[0;34m\u001b[0m\u001b[0;34m\u001b[0m\u001b[0m\n",
            "\u001b[0;32mpandas/_libs/index.pyx\u001b[0m in \u001b[0;36mpandas._libs.index.IndexEngine.get_loc\u001b[0;34m()\u001b[0m\n",
            "\u001b[0;32mpandas/_libs/index.pyx\u001b[0m in \u001b[0;36mpandas._libs.index.IndexEngine.get_loc\u001b[0;34m()\u001b[0m\n",
            "\u001b[0;32mpandas/_libs/hashtable_class_helper.pxi\u001b[0m in \u001b[0;36mpandas._libs.hashtable.PyObjectHashTable.get_item\u001b[0;34m()\u001b[0m\n",
            "\u001b[0;32mpandas/_libs/hashtable_class_helper.pxi\u001b[0m in \u001b[0;36mpandas._libs.hashtable.PyObjectHashTable.get_item\u001b[0;34m()\u001b[0m\n",
            "\u001b[0;31mKeyError\u001b[0m: ('market', 'quantity')",
            "\nThe above exception was the direct cause of the following exception:\n",
            "\u001b[0;31mKeyError\u001b[0m                                  Traceback (most recent call last)",
            "\u001b[0;32m<ipython-input-111-3fa6b4c3afe5>\u001b[0m in \u001b[0;36m<module>\u001b[0;34m()\u001b[0m\n\u001b[0;32m----> 1\u001b[0;31m \u001b[0mdf\u001b[0m\u001b[0;34m[\u001b[0m\u001b[0;34m'market'\u001b[0m\u001b[0;34m,\u001b[0m\u001b[0;34m'quantity'\u001b[0m\u001b[0;34m]\u001b[0m\u001b[0;34m.\u001b[0m\u001b[0mvalue_counts\u001b[0m\u001b[0;34m(\u001b[0m\u001b[0;34m)\u001b[0m\u001b[0;34m\u001b[0m\u001b[0;34m\u001b[0m\u001b[0m\n\u001b[0m",
            "\u001b[0;32m/usr/local/lib/python3.7/dist-packages/pandas/core/frame.py\u001b[0m in \u001b[0;36m__getitem__\u001b[0;34m(self, key)\u001b[0m\n\u001b[1;32m   2904\u001b[0m             \u001b[0;32mif\u001b[0m \u001b[0mself\u001b[0m\u001b[0;34m.\u001b[0m\u001b[0mcolumns\u001b[0m\u001b[0;34m.\u001b[0m\u001b[0mnlevels\u001b[0m \u001b[0;34m>\u001b[0m \u001b[0;36m1\u001b[0m\u001b[0;34m:\u001b[0m\u001b[0;34m\u001b[0m\u001b[0;34m\u001b[0m\u001b[0m\n\u001b[1;32m   2905\u001b[0m                 \u001b[0;32mreturn\u001b[0m \u001b[0mself\u001b[0m\u001b[0;34m.\u001b[0m\u001b[0m_getitem_multilevel\u001b[0m\u001b[0;34m(\u001b[0m\u001b[0mkey\u001b[0m\u001b[0;34m)\u001b[0m\u001b[0;34m\u001b[0m\u001b[0;34m\u001b[0m\u001b[0m\n\u001b[0;32m-> 2906\u001b[0;31m             \u001b[0mindexer\u001b[0m \u001b[0;34m=\u001b[0m \u001b[0mself\u001b[0m\u001b[0;34m.\u001b[0m\u001b[0mcolumns\u001b[0m\u001b[0;34m.\u001b[0m\u001b[0mget_loc\u001b[0m\u001b[0;34m(\u001b[0m\u001b[0mkey\u001b[0m\u001b[0;34m)\u001b[0m\u001b[0;34m\u001b[0m\u001b[0;34m\u001b[0m\u001b[0m\n\u001b[0m\u001b[1;32m   2907\u001b[0m             \u001b[0;32mif\u001b[0m \u001b[0mis_integer\u001b[0m\u001b[0;34m(\u001b[0m\u001b[0mindexer\u001b[0m\u001b[0;34m)\u001b[0m\u001b[0;34m:\u001b[0m\u001b[0;34m\u001b[0m\u001b[0;34m\u001b[0m\u001b[0m\n\u001b[1;32m   2908\u001b[0m                 \u001b[0mindexer\u001b[0m \u001b[0;34m=\u001b[0m \u001b[0;34m[\u001b[0m\u001b[0mindexer\u001b[0m\u001b[0;34m]\u001b[0m\u001b[0;34m\u001b[0m\u001b[0;34m\u001b[0m\u001b[0m\n",
            "\u001b[0;32m/usr/local/lib/python3.7/dist-packages/pandas/core/indexes/base.py\u001b[0m in \u001b[0;36mget_loc\u001b[0;34m(self, key, method, tolerance)\u001b[0m\n\u001b[1;32m   2898\u001b[0m                 \u001b[0;32mreturn\u001b[0m \u001b[0mself\u001b[0m\u001b[0;34m.\u001b[0m\u001b[0m_engine\u001b[0m\u001b[0;34m.\u001b[0m\u001b[0mget_loc\u001b[0m\u001b[0;34m(\u001b[0m\u001b[0mcasted_key\u001b[0m\u001b[0;34m)\u001b[0m\u001b[0;34m\u001b[0m\u001b[0;34m\u001b[0m\u001b[0m\n\u001b[1;32m   2899\u001b[0m             \u001b[0;32mexcept\u001b[0m \u001b[0mKeyError\u001b[0m \u001b[0;32mas\u001b[0m \u001b[0merr\u001b[0m\u001b[0;34m:\u001b[0m\u001b[0;34m\u001b[0m\u001b[0;34m\u001b[0m\u001b[0m\n\u001b[0;32m-> 2900\u001b[0;31m                 \u001b[0;32mraise\u001b[0m \u001b[0mKeyError\u001b[0m\u001b[0;34m(\u001b[0m\u001b[0mkey\u001b[0m\u001b[0;34m)\u001b[0m \u001b[0;32mfrom\u001b[0m \u001b[0merr\u001b[0m\u001b[0;34m\u001b[0m\u001b[0;34m\u001b[0m\u001b[0m\n\u001b[0m\u001b[1;32m   2901\u001b[0m \u001b[0;34m\u001b[0m\u001b[0m\n\u001b[1;32m   2902\u001b[0m         \u001b[0;32mif\u001b[0m \u001b[0mtolerance\u001b[0m \u001b[0;32mis\u001b[0m \u001b[0;32mnot\u001b[0m \u001b[0;32mNone\u001b[0m\u001b[0;34m:\u001b[0m\u001b[0;34m\u001b[0m\u001b[0;34m\u001b[0m\u001b[0m\n",
            "\u001b[0;31mKeyError\u001b[0m: ('market', 'quantity')"
          ]
        }
      ]
    },
    {
      "cell_type": "code",
      "metadata": {
        "colab": {
          "base_uri": "https://localhost:8080/"
        },
        "id": "qvkUMtA9ZOqQ",
        "outputId": "d3dd4d38-43d6-4cb0-f271-d371e30ea40f"
      },
      "source": [
        "df['state'].value_counts().unique()"
      ],
      "execution_count": null,
      "outputs": [
        {
          "output_type": "execute_result",
          "data": {
            "text/plain": [
              "array([4354,  958,  929,  617,  593,  462,  350,  309,  278,  233,  187,\n",
              "        163,  158,  140,  134,  129,  123,   55,   40,   13,    2])"
            ]
          },
          "metadata": {
            "tags": []
          },
          "execution_count": 112
        }
      ]
    },
    {
      "cell_type": "code",
      "metadata": {
        "id": "_0dExM0DZ5Sp"
      },
      "source": [
        "df_sm = df.loc[:,['market','state']].value_counts()"
      ],
      "execution_count": null,
      "outputs": []
    },
    {
      "cell_type": "code",
      "metadata": {
        "id": "Jcg02VDqbIIS"
      },
      "source": [
        "df_sm.drop_duplicates(inplace=True)"
      ],
      "execution_count": null,
      "outputs": []
    },
    {
      "cell_type": "code",
      "metadata": {
        "colab": {
          "base_uri": "https://localhost:8080/"
        },
        "id": "IhhFH7HHbjh1",
        "outputId": "e309e53e-d887-42f4-d91a-540ac5769e24"
      },
      "source": [
        "df_sm.head()"
      ],
      "execution_count": null,
      "outputs": [
        {
          "output_type": "execute_result",
          "data": {
            "text/plain": [
              "market          state\n",
              "LASALGAON(MS)   MS       242\n",
              "PIMPALGAON(MS)  MS       224\n",
              "MANMAD(MS)      MS       218\n",
              "LONAND(MS)      MS       211\n",
              "MAHUVA(GUJ)     GUJ      210\n",
              "dtype: int64"
            ]
          },
          "metadata": {
            "tags": []
          },
          "execution_count": 115
        }
      ]
    },
    {
      "cell_type": "code",
      "metadata": {
        "colab": {
          "base_uri": "https://localhost:8080/"
        },
        "id": "QOljdTuNcJ7i",
        "outputId": "e56343db-e3a2-4a77-91c7-e5070e6885f7"
      },
      "source": [
        "df_sm"
      ],
      "execution_count": null,
      "outputs": [
        {
          "output_type": "execute_result",
          "data": {
            "text/plain": [
              "market           state\n",
              "LASALGAON(MS)    MS       242\n",
              "PIMPALGAON(MS)   MS       224\n",
              "MANMAD(MS)       MS       218\n",
              "LONAND(MS)       MS       211\n",
              "MAHUVA(GUJ)      GUJ      210\n",
              "                         ... \n",
              "MADURAI(TN)      TN         6\n",
              "NANDGAON(MS)     MS         5\n",
              "GORAKHPUR(UP)    UP         3\n",
              "SRIRAMPUR(MS)    MS         2\n",
              "CHALLAKERE(KNT)  KNT        1\n",
              "Length: 71, dtype: int64"
            ]
          },
          "metadata": {
            "tags": []
          },
          "execution_count": 116
        }
      ]
    },
    {
      "cell_type": "code",
      "metadata": {
        "id": "mYJsEyQZc6UM"
      },
      "source": [
        "df_sm = df.loc[:,['state','market']]"
      ],
      "execution_count": null,
      "outputs": []
    },
    {
      "cell_type": "code",
      "metadata": {
        "colab": {
          "base_uri": "https://localhost:8080/",
          "height": 417
        },
        "id": "xyZTrmgVc9Go",
        "outputId": "77db3237-851d-4318-8ed7-8fc35d42b7ce"
      },
      "source": [
        "df_sm"
      ],
      "execution_count": null,
      "outputs": [
        {
          "output_type": "execute_result",
          "data": {
            "text/html": [
              "<div>\n",
              "<style scoped>\n",
              "    .dataframe tbody tr th:only-of-type {\n",
              "        vertical-align: middle;\n",
              "    }\n",
              "\n",
              "    .dataframe tbody tr th {\n",
              "        vertical-align: top;\n",
              "    }\n",
              "\n",
              "    .dataframe thead th {\n",
              "        text-align: right;\n",
              "    }\n",
              "</style>\n",
              "<table border=\"1\" class=\"dataframe\">\n",
              "  <thead>\n",
              "    <tr style=\"text-align: right;\">\n",
              "      <th></th>\n",
              "      <th>state</th>\n",
              "      <th>market</th>\n",
              "    </tr>\n",
              "  </thead>\n",
              "  <tbody>\n",
              "    <tr>\n",
              "      <th>0</th>\n",
              "      <td>PB</td>\n",
              "      <td>ABOHAR(PB)</td>\n",
              "    </tr>\n",
              "    <tr>\n",
              "      <th>1</th>\n",
              "      <td>PB</td>\n",
              "      <td>ABOHAR(PB)</td>\n",
              "    </tr>\n",
              "    <tr>\n",
              "      <th>2</th>\n",
              "      <td>PB</td>\n",
              "      <td>ABOHAR(PB)</td>\n",
              "    </tr>\n",
              "    <tr>\n",
              "      <th>3</th>\n",
              "      <td>PB</td>\n",
              "      <td>ABOHAR(PB)</td>\n",
              "    </tr>\n",
              "    <tr>\n",
              "      <th>4</th>\n",
              "      <td>PB</td>\n",
              "      <td>ABOHAR(PB)</td>\n",
              "    </tr>\n",
              "    <tr>\n",
              "      <th>...</th>\n",
              "      <td>...</td>\n",
              "      <td>...</td>\n",
              "    </tr>\n",
              "    <tr>\n",
              "      <th>10222</th>\n",
              "      <td>MS</td>\n",
              "      <td>YEOLA(MS)</td>\n",
              "    </tr>\n",
              "    <tr>\n",
              "      <th>10223</th>\n",
              "      <td>MS</td>\n",
              "      <td>YEOLA(MS)</td>\n",
              "    </tr>\n",
              "    <tr>\n",
              "      <th>10224</th>\n",
              "      <td>MS</td>\n",
              "      <td>YEOLA(MS)</td>\n",
              "    </tr>\n",
              "    <tr>\n",
              "      <th>10225</th>\n",
              "      <td>MS</td>\n",
              "      <td>YEOLA(MS)</td>\n",
              "    </tr>\n",
              "    <tr>\n",
              "      <th>10226</th>\n",
              "      <td>MS</td>\n",
              "      <td>YEOLA(MS)</td>\n",
              "    </tr>\n",
              "  </tbody>\n",
              "</table>\n",
              "<p>10227 rows × 2 columns</p>\n",
              "</div>"
            ],
            "text/plain": [
              "      state      market\n",
              "0        PB  ABOHAR(PB)\n",
              "1        PB  ABOHAR(PB)\n",
              "2        PB  ABOHAR(PB)\n",
              "3        PB  ABOHAR(PB)\n",
              "4        PB  ABOHAR(PB)\n",
              "...     ...         ...\n",
              "10222    MS   YEOLA(MS)\n",
              "10223    MS   YEOLA(MS)\n",
              "10224    MS   YEOLA(MS)\n",
              "10225    MS   YEOLA(MS)\n",
              "10226    MS   YEOLA(MS)\n",
              "\n",
              "[10227 rows x 2 columns]"
            ]
          },
          "metadata": {
            "tags": []
          },
          "execution_count": 118
        }
      ]
    },
    {
      "cell_type": "code",
      "metadata": {
        "id": "jUAegciddAFo"
      },
      "source": [
        "df1 = df.loc[:,['market','state']]"
      ],
      "execution_count": null,
      "outputs": []
    },
    {
      "cell_type": "code",
      "metadata": {
        "colab": {
          "base_uri": "https://localhost:8080/",
          "height": 417
        },
        "id": "JoDfZ75Ldeua",
        "outputId": "efca3d94-20a2-4e9f-f494-9f415a9a2929"
      },
      "source": [
        "df1"
      ],
      "execution_count": null,
      "outputs": [
        {
          "output_type": "execute_result",
          "data": {
            "text/html": [
              "<div>\n",
              "<style scoped>\n",
              "    .dataframe tbody tr th:only-of-type {\n",
              "        vertical-align: middle;\n",
              "    }\n",
              "\n",
              "    .dataframe tbody tr th {\n",
              "        vertical-align: top;\n",
              "    }\n",
              "\n",
              "    .dataframe thead th {\n",
              "        text-align: right;\n",
              "    }\n",
              "</style>\n",
              "<table border=\"1\" class=\"dataframe\">\n",
              "  <thead>\n",
              "    <tr style=\"text-align: right;\">\n",
              "      <th></th>\n",
              "      <th>market</th>\n",
              "      <th>state</th>\n",
              "    </tr>\n",
              "  </thead>\n",
              "  <tbody>\n",
              "    <tr>\n",
              "      <th>0</th>\n",
              "      <td>ABOHAR(PB)</td>\n",
              "      <td>PB</td>\n",
              "    </tr>\n",
              "    <tr>\n",
              "      <th>1</th>\n",
              "      <td>ABOHAR(PB)</td>\n",
              "      <td>PB</td>\n",
              "    </tr>\n",
              "    <tr>\n",
              "      <th>2</th>\n",
              "      <td>ABOHAR(PB)</td>\n",
              "      <td>PB</td>\n",
              "    </tr>\n",
              "    <tr>\n",
              "      <th>3</th>\n",
              "      <td>ABOHAR(PB)</td>\n",
              "      <td>PB</td>\n",
              "    </tr>\n",
              "    <tr>\n",
              "      <th>4</th>\n",
              "      <td>ABOHAR(PB)</td>\n",
              "      <td>PB</td>\n",
              "    </tr>\n",
              "    <tr>\n",
              "      <th>...</th>\n",
              "      <td>...</td>\n",
              "      <td>...</td>\n",
              "    </tr>\n",
              "    <tr>\n",
              "      <th>10222</th>\n",
              "      <td>YEOLA(MS)</td>\n",
              "      <td>MS</td>\n",
              "    </tr>\n",
              "    <tr>\n",
              "      <th>10223</th>\n",
              "      <td>YEOLA(MS)</td>\n",
              "      <td>MS</td>\n",
              "    </tr>\n",
              "    <tr>\n",
              "      <th>10224</th>\n",
              "      <td>YEOLA(MS)</td>\n",
              "      <td>MS</td>\n",
              "    </tr>\n",
              "    <tr>\n",
              "      <th>10225</th>\n",
              "      <td>YEOLA(MS)</td>\n",
              "      <td>MS</td>\n",
              "    </tr>\n",
              "    <tr>\n",
              "      <th>10226</th>\n",
              "      <td>YEOLA(MS)</td>\n",
              "      <td>MS</td>\n",
              "    </tr>\n",
              "  </tbody>\n",
              "</table>\n",
              "<p>10227 rows × 2 columns</p>\n",
              "</div>"
            ],
            "text/plain": [
              "           market state\n",
              "0      ABOHAR(PB)    PB\n",
              "1      ABOHAR(PB)    PB\n",
              "2      ABOHAR(PB)    PB\n",
              "3      ABOHAR(PB)    PB\n",
              "4      ABOHAR(PB)    PB\n",
              "...           ...   ...\n",
              "10222   YEOLA(MS)    MS\n",
              "10223   YEOLA(MS)    MS\n",
              "10224   YEOLA(MS)    MS\n",
              "10225   YEOLA(MS)    MS\n",
              "10226   YEOLA(MS)    MS\n",
              "\n",
              "[10227 rows x 2 columns]"
            ]
          },
          "metadata": {
            "tags": []
          },
          "execution_count": 120
        }
      ]
    },
    {
      "cell_type": "code",
      "metadata": {
        "colab": {
          "base_uri": "https://localhost:8080/"
        },
        "id": "lHz2jd_0dnMr",
        "outputId": "13f7dbae-51d0-447f-bf26-6f99d1493e1c"
      },
      "source": [
        "df['market'],['state'],['market']"
      ],
      "execution_count": null,
      "outputs": [
        {
          "output_type": "execute_result",
          "data": {
            "text/plain": [
              "(0        ABOHAR(PB)\n",
              " 1        ABOHAR(PB)\n",
              " 2        ABOHAR(PB)\n",
              " 3        ABOHAR(PB)\n",
              " 4        ABOHAR(PB)\n",
              "             ...    \n",
              " 10222     YEOLA(MS)\n",
              " 10223     YEOLA(MS)\n",
              " 10224     YEOLA(MS)\n",
              " 10225     YEOLA(MS)\n",
              " 10226     YEOLA(MS)\n",
              " Name: market, Length: 10227, dtype: object, ['state'], ['market'])"
            ]
          },
          "metadata": {
            "tags": []
          },
          "execution_count": 122
        }
      ]
    },
    {
      "cell_type": "code",
      "metadata": {
        "colab": {
          "base_uri": "https://localhost:8080/",
          "height": 417
        },
        "id": "iNCrZRz9gQ_O",
        "outputId": "9b2de6a0-e329-4951-9d2a-737fa1135a5e"
      },
      "source": [
        "df"
      ],
      "execution_count": null,
      "outputs": [
        {
          "output_type": "execute_result",
          "data": {
            "text/html": [
              "<div>\n",
              "<style scoped>\n",
              "    .dataframe tbody tr th:only-of-type {\n",
              "        vertical-align: middle;\n",
              "    }\n",
              "\n",
              "    .dataframe tbody tr th {\n",
              "        vertical-align: top;\n",
              "    }\n",
              "\n",
              "    .dataframe thead th {\n",
              "        text-align: right;\n",
              "    }\n",
              "</style>\n",
              "<table border=\"1\" class=\"dataframe\">\n",
              "  <thead>\n",
              "    <tr style=\"text-align: right;\">\n",
              "      <th></th>\n",
              "      <th>market</th>\n",
              "      <th>month</th>\n",
              "      <th>year</th>\n",
              "      <th>quantity</th>\n",
              "      <th>priceMin</th>\n",
              "      <th>priceMax</th>\n",
              "      <th>priceMod</th>\n",
              "      <th>state</th>\n",
              "      <th>city</th>\n",
              "      <th>date</th>\n",
              "    </tr>\n",
              "  </thead>\n",
              "  <tbody>\n",
              "    <tr>\n",
              "      <th>0</th>\n",
              "      <td>ABOHAR(PB)</td>\n",
              "      <td>January</td>\n",
              "      <td>2005</td>\n",
              "      <td>2350</td>\n",
              "      <td>404</td>\n",
              "      <td>493</td>\n",
              "      <td>446</td>\n",
              "      <td>PB</td>\n",
              "      <td>ABOHAR</td>\n",
              "      <td>January-2005</td>\n",
              "    </tr>\n",
              "    <tr>\n",
              "      <th>1</th>\n",
              "      <td>ABOHAR(PB)</td>\n",
              "      <td>January</td>\n",
              "      <td>2006</td>\n",
              "      <td>900</td>\n",
              "      <td>487</td>\n",
              "      <td>638</td>\n",
              "      <td>563</td>\n",
              "      <td>PB</td>\n",
              "      <td>ABOHAR</td>\n",
              "      <td>January-2006</td>\n",
              "    </tr>\n",
              "    <tr>\n",
              "      <th>2</th>\n",
              "      <td>ABOHAR(PB)</td>\n",
              "      <td>January</td>\n",
              "      <td>2010</td>\n",
              "      <td>790</td>\n",
              "      <td>1283</td>\n",
              "      <td>1592</td>\n",
              "      <td>1460</td>\n",
              "      <td>PB</td>\n",
              "      <td>ABOHAR</td>\n",
              "      <td>January-2010</td>\n",
              "    </tr>\n",
              "    <tr>\n",
              "      <th>3</th>\n",
              "      <td>ABOHAR(PB)</td>\n",
              "      <td>January</td>\n",
              "      <td>2011</td>\n",
              "      <td>245</td>\n",
              "      <td>3067</td>\n",
              "      <td>3750</td>\n",
              "      <td>3433</td>\n",
              "      <td>PB</td>\n",
              "      <td>ABOHAR</td>\n",
              "      <td>January-2011</td>\n",
              "    </tr>\n",
              "    <tr>\n",
              "      <th>4</th>\n",
              "      <td>ABOHAR(PB)</td>\n",
              "      <td>January</td>\n",
              "      <td>2012</td>\n",
              "      <td>1035</td>\n",
              "      <td>523</td>\n",
              "      <td>686</td>\n",
              "      <td>605</td>\n",
              "      <td>PB</td>\n",
              "      <td>ABOHAR</td>\n",
              "      <td>January-2012</td>\n",
              "    </tr>\n",
              "    <tr>\n",
              "      <th>...</th>\n",
              "      <td>...</td>\n",
              "      <td>...</td>\n",
              "      <td>...</td>\n",
              "      <td>...</td>\n",
              "      <td>...</td>\n",
              "      <td>...</td>\n",
              "      <td>...</td>\n",
              "      <td>...</td>\n",
              "      <td>...</td>\n",
              "      <td>...</td>\n",
              "    </tr>\n",
              "    <tr>\n",
              "      <th>10222</th>\n",
              "      <td>YEOLA(MS)</td>\n",
              "      <td>December</td>\n",
              "      <td>2011</td>\n",
              "      <td>131326</td>\n",
              "      <td>282</td>\n",
              "      <td>612</td>\n",
              "      <td>526</td>\n",
              "      <td>MS</td>\n",
              "      <td>YEOLA</td>\n",
              "      <td>December-2011</td>\n",
              "    </tr>\n",
              "    <tr>\n",
              "      <th>10223</th>\n",
              "      <td>YEOLA(MS)</td>\n",
              "      <td>December</td>\n",
              "      <td>2012</td>\n",
              "      <td>207066</td>\n",
              "      <td>485</td>\n",
              "      <td>1327</td>\n",
              "      <td>1136</td>\n",
              "      <td>MS</td>\n",
              "      <td>YEOLA</td>\n",
              "      <td>December-2012</td>\n",
              "    </tr>\n",
              "    <tr>\n",
              "      <th>10224</th>\n",
              "      <td>YEOLA(MS)</td>\n",
              "      <td>December</td>\n",
              "      <td>2013</td>\n",
              "      <td>215883</td>\n",
              "      <td>472</td>\n",
              "      <td>1427</td>\n",
              "      <td>1177</td>\n",
              "      <td>MS</td>\n",
              "      <td>YEOLA</td>\n",
              "      <td>December-2013</td>\n",
              "    </tr>\n",
              "    <tr>\n",
              "      <th>10225</th>\n",
              "      <td>YEOLA(MS)</td>\n",
              "      <td>December</td>\n",
              "      <td>2014</td>\n",
              "      <td>201077</td>\n",
              "      <td>446</td>\n",
              "      <td>1654</td>\n",
              "      <td>1456</td>\n",
              "      <td>MS</td>\n",
              "      <td>YEOLA</td>\n",
              "      <td>December-2014</td>\n",
              "    </tr>\n",
              "    <tr>\n",
              "      <th>10226</th>\n",
              "      <td>YEOLA(MS)</td>\n",
              "      <td>December</td>\n",
              "      <td>2015</td>\n",
              "      <td>223315</td>\n",
              "      <td>609</td>\n",
              "      <td>1446</td>\n",
              "      <td>1126</td>\n",
              "      <td>MS</td>\n",
              "      <td>YEOLA</td>\n",
              "      <td>December-2015</td>\n",
              "    </tr>\n",
              "  </tbody>\n",
              "</table>\n",
              "<p>10227 rows × 10 columns</p>\n",
              "</div>"
            ],
            "text/plain": [
              "           market     month  year  ...  state    city           date\n",
              "0      ABOHAR(PB)   January  2005  ...     PB  ABOHAR   January-2005\n",
              "1      ABOHAR(PB)   January  2006  ...     PB  ABOHAR   January-2006\n",
              "2      ABOHAR(PB)   January  2010  ...     PB  ABOHAR   January-2010\n",
              "3      ABOHAR(PB)   January  2011  ...     PB  ABOHAR   January-2011\n",
              "4      ABOHAR(PB)   January  2012  ...     PB  ABOHAR   January-2012\n",
              "...           ...       ...   ...  ...    ...     ...            ...\n",
              "10222   YEOLA(MS)  December  2011  ...     MS   YEOLA  December-2011\n",
              "10223   YEOLA(MS)  December  2012  ...     MS   YEOLA  December-2012\n",
              "10224   YEOLA(MS)  December  2013  ...     MS   YEOLA  December-2013\n",
              "10225   YEOLA(MS)  December  2014  ...     MS   YEOLA  December-2014\n",
              "10226   YEOLA(MS)  December  2015  ...     MS   YEOLA  December-2015\n",
              "\n",
              "[10227 rows x 10 columns]"
            ]
          },
          "metadata": {
            "tags": []
          },
          "execution_count": 123
        }
      ]
    },
    {
      "cell_type": "code",
      "metadata": {
        "colab": {
          "base_uri": "https://localhost:8080/",
          "height": 80
        },
        "id": "SB5TNEnmeiYe",
        "outputId": "b4a44369-68ec-4341-c18c-5b5508297179"
      },
      "source": [
        "uniq_market=df.drop_duplicates(subset=['market'])\n",
        "uniq_market.groupby(['state'])['market'].count().reset_index().sort_values(by='market',ascending=False).head(1)\n"
      ],
      "execution_count": null,
      "outputs": [
        {
          "output_type": "execute_result",
          "data": {
            "text/html": [
              "<div>\n",
              "<style scoped>\n",
              "    .dataframe tbody tr th:only-of-type {\n",
              "        vertical-align: middle;\n",
              "    }\n",
              "\n",
              "    .dataframe tbody tr th {\n",
              "        vertical-align: top;\n",
              "    }\n",
              "\n",
              "    .dataframe thead th {\n",
              "        text-align: right;\n",
              "    }\n",
              "</style>\n",
              "<table border=\"1\" class=\"dataframe\">\n",
              "  <thead>\n",
              "    <tr style=\"text-align: right;\">\n",
              "      <th></th>\n",
              "      <th>state</th>\n",
              "      <th>market</th>\n",
              "    </tr>\n",
              "  </thead>\n",
              "  <tbody>\n",
              "    <tr>\n",
              "      <th>14</th>\n",
              "      <td>MS</td>\n",
              "      <td>38</td>\n",
              "    </tr>\n",
              "  </tbody>\n",
              "</table>\n",
              "</div>"
            ],
            "text/plain": [
              "   state  market\n",
              "14    MS      38"
            ]
          },
          "metadata": {
            "tags": []
          },
          "execution_count": 124
        }
      ]
    },
    {
      "cell_type": "code",
      "metadata": {
        "colab": {
          "base_uri": "https://localhost:8080/",
          "height": 49
        },
        "id": "R8SORTs1exJ1",
        "outputId": "ce0d71c0-6986-412b-d6c7-f294d3178869"
      },
      "source": [
        ""
      ],
      "execution_count": null,
      "outputs": [
        {
          "output_type": "execute_result",
          "data": {
            "text/html": [
              "<div>\n",
              "<style scoped>\n",
              "    .dataframe tbody tr th:only-of-type {\n",
              "        vertical-align: middle;\n",
              "    }\n",
              "\n",
              "    .dataframe tbody tr th {\n",
              "        vertical-align: top;\n",
              "    }\n",
              "\n",
              "    .dataframe thead th {\n",
              "        text-align: right;\n",
              "    }\n",
              "</style>\n",
              "<table border=\"1\" class=\"dataframe\">\n",
              "  <thead>\n",
              "    <tr style=\"text-align: right;\">\n",
              "      <th></th>\n",
              "      <th>market</th>\n",
              "      <th>month</th>\n",
              "      <th>year</th>\n",
              "      <th>quantity</th>\n",
              "      <th>priceMin</th>\n",
              "      <th>priceMax</th>\n",
              "      <th>priceMod</th>\n",
              "      <th>state</th>\n",
              "      <th>city</th>\n",
              "      <th>date</th>\n",
              "    </tr>\n",
              "  </thead>\n",
              "  <tbody>\n",
              "  </tbody>\n",
              "</table>\n",
              "</div>"
            ],
            "text/plain": [
              "Empty DataFrame\n",
              "Columns: [market, month, year, quantity, priceMin, priceMax, priceMod, state, city, date]\n",
              "Index: []"
            ]
          },
          "metadata": {
            "tags": []
          },
          "execution_count": 134
        }
      ]
    },
    {
      "cell_type": "code",
      "metadata": {
        "id": "Idp5yoD1bjoY"
      },
      "source": [
        "df_ls = df.loc[df['market'] == 'LASALGAON(MS)']"
      ],
      "execution_count": null,
      "outputs": []
    },
    {
      "cell_type": "code",
      "metadata": {
        "id": "FB7lktBYhrAc"
      },
      "source": [
        ""
      ],
      "execution_count": null,
      "outputs": []
    },
    {
      "cell_type": "code",
      "metadata": {
        "colab": {
          "base_uri": "https://localhost:8080/",
          "height": 417
        },
        "id": "6kLBljb0lhIe",
        "outputId": "b8559a14-e403-49f1-a4d1-24651ab195fa"
      },
      "source": [
        "df_ls"
      ],
      "execution_count": null,
      "outputs": [
        {
          "output_type": "execute_result",
          "data": {
            "text/html": [
              "<div>\n",
              "<style scoped>\n",
              "    .dataframe tbody tr th:only-of-type {\n",
              "        vertical-align: middle;\n",
              "    }\n",
              "\n",
              "    .dataframe tbody tr th {\n",
              "        vertical-align: top;\n",
              "    }\n",
              "\n",
              "    .dataframe thead th {\n",
              "        text-align: right;\n",
              "    }\n",
              "</style>\n",
              "<table border=\"1\" class=\"dataframe\">\n",
              "  <thead>\n",
              "    <tr style=\"text-align: right;\">\n",
              "      <th></th>\n",
              "      <th>market</th>\n",
              "      <th>month</th>\n",
              "      <th>year</th>\n",
              "      <th>quantity</th>\n",
              "      <th>priceMin</th>\n",
              "      <th>priceMax</th>\n",
              "      <th>priceMod</th>\n",
              "      <th>state</th>\n",
              "      <th>city</th>\n",
              "      <th>date</th>\n",
              "    </tr>\n",
              "  </thead>\n",
              "  <tbody>\n",
              "    <tr>\n",
              "      <th>5399</th>\n",
              "      <td>LASALGAON(MS)</td>\n",
              "      <td>January</td>\n",
              "      <td>1996</td>\n",
              "      <td>225063</td>\n",
              "      <td>160</td>\n",
              "      <td>257</td>\n",
              "      <td>226</td>\n",
              "      <td>MS</td>\n",
              "      <td>LASALGAON</td>\n",
              "      <td>January-1996</td>\n",
              "    </tr>\n",
              "    <tr>\n",
              "      <th>5400</th>\n",
              "      <td>LASALGAON(MS)</td>\n",
              "      <td>January</td>\n",
              "      <td>1997</td>\n",
              "      <td>241225</td>\n",
              "      <td>126</td>\n",
              "      <td>323</td>\n",
              "      <td>290</td>\n",
              "      <td>MS</td>\n",
              "      <td>LASALGAON</td>\n",
              "      <td>January-1997</td>\n",
              "    </tr>\n",
              "    <tr>\n",
              "      <th>5401</th>\n",
              "      <td>LASALGAON(MS)</td>\n",
              "      <td>January</td>\n",
              "      <td>1998</td>\n",
              "      <td>125731</td>\n",
              "      <td>225</td>\n",
              "      <td>1447</td>\n",
              "      <td>1037</td>\n",
              "      <td>MS</td>\n",
              "      <td>LASALGAON</td>\n",
              "      <td>January-1998</td>\n",
              "    </tr>\n",
              "    <tr>\n",
              "      <th>5402</th>\n",
              "      <td>LASALGAON(MS)</td>\n",
              "      <td>January</td>\n",
              "      <td>1999</td>\n",
              "      <td>236001</td>\n",
              "      <td>310</td>\n",
              "      <td>545</td>\n",
              "      <td>498</td>\n",
              "      <td>MS</td>\n",
              "      <td>LASALGAON</td>\n",
              "      <td>January-1999</td>\n",
              "    </tr>\n",
              "    <tr>\n",
              "      <th>5403</th>\n",
              "      <td>LASALGAON(MS)</td>\n",
              "      <td>January</td>\n",
              "      <td>2000</td>\n",
              "      <td>390783</td>\n",
              "      <td>145</td>\n",
              "      <td>341</td>\n",
              "      <td>225</td>\n",
              "      <td>MS</td>\n",
              "      <td>LASALGAON</td>\n",
              "      <td>January-2000</td>\n",
              "    </tr>\n",
              "    <tr>\n",
              "      <th>...</th>\n",
              "      <td>...</td>\n",
              "      <td>...</td>\n",
              "      <td>...</td>\n",
              "      <td>...</td>\n",
              "      <td>...</td>\n",
              "      <td>...</td>\n",
              "      <td>...</td>\n",
              "      <td>...</td>\n",
              "      <td>...</td>\n",
              "      <td>...</td>\n",
              "    </tr>\n",
              "    <tr>\n",
              "      <th>5636</th>\n",
              "      <td>LASALGAON(MS)</td>\n",
              "      <td>December</td>\n",
              "      <td>2011</td>\n",
              "      <td>213720</td>\n",
              "      <td>223</td>\n",
              "      <td>803</td>\n",
              "      <td>575</td>\n",
              "      <td>MS</td>\n",
              "      <td>LASALGAON</td>\n",
              "      <td>December-2011</td>\n",
              "    </tr>\n",
              "    <tr>\n",
              "      <th>5637</th>\n",
              "      <td>LASALGAON(MS)</td>\n",
              "      <td>December</td>\n",
              "      <td>2012</td>\n",
              "      <td>498275</td>\n",
              "      <td>586</td>\n",
              "      <td>1390</td>\n",
              "      <td>1207</td>\n",
              "      <td>MS</td>\n",
              "      <td>LASALGAON</td>\n",
              "      <td>December-2012</td>\n",
              "    </tr>\n",
              "    <tr>\n",
              "      <th>5638</th>\n",
              "      <td>LASALGAON(MS)</td>\n",
              "      <td>December</td>\n",
              "      <td>2013</td>\n",
              "      <td>343533</td>\n",
              "      <td>955</td>\n",
              "      <td>1690</td>\n",
              "      <td>1335</td>\n",
              "      <td>MS</td>\n",
              "      <td>LASALGAON</td>\n",
              "      <td>December-2013</td>\n",
              "    </tr>\n",
              "    <tr>\n",
              "      <th>5639</th>\n",
              "      <td>LASALGAON(MS)</td>\n",
              "      <td>December</td>\n",
              "      <td>2014</td>\n",
              "      <td>246504</td>\n",
              "      <td>884</td>\n",
              "      <td>1705</td>\n",
              "      <td>1514</td>\n",
              "      <td>MS</td>\n",
              "      <td>LASALGAON</td>\n",
              "      <td>December-2014</td>\n",
              "    </tr>\n",
              "    <tr>\n",
              "      <th>5640</th>\n",
              "      <td>LASALGAON(MS)</td>\n",
              "      <td>December</td>\n",
              "      <td>2015</td>\n",
              "      <td>438498</td>\n",
              "      <td>923</td>\n",
              "      <td>1690</td>\n",
              "      <td>1280</td>\n",
              "      <td>MS</td>\n",
              "      <td>LASALGAON</td>\n",
              "      <td>December-2015</td>\n",
              "    </tr>\n",
              "  </tbody>\n",
              "</table>\n",
              "<p>242 rows × 10 columns</p>\n",
              "</div>"
            ],
            "text/plain": [
              "             market     month  year  ...  state       city           date\n",
              "5399  LASALGAON(MS)   January  1996  ...     MS  LASALGAON   January-1996\n",
              "5400  LASALGAON(MS)   January  1997  ...     MS  LASALGAON   January-1997\n",
              "5401  LASALGAON(MS)   January  1998  ...     MS  LASALGAON   January-1998\n",
              "5402  LASALGAON(MS)   January  1999  ...     MS  LASALGAON   January-1999\n",
              "5403  LASALGAON(MS)   January  2000  ...     MS  LASALGAON   January-2000\n",
              "...             ...       ...   ...  ...    ...        ...            ...\n",
              "5636  LASALGAON(MS)  December  2011  ...     MS  LASALGAON  December-2011\n",
              "5637  LASALGAON(MS)  December  2012  ...     MS  LASALGAON  December-2012\n",
              "5638  LASALGAON(MS)  December  2013  ...     MS  LASALGAON  December-2013\n",
              "5639  LASALGAON(MS)  December  2014  ...     MS  LASALGAON  December-2014\n",
              "5640  LASALGAON(MS)  December  2015  ...     MS  LASALGAON  December-2015\n",
              "\n",
              "[242 rows x 10 columns]"
            ]
          },
          "metadata": {
            "tags": []
          },
          "execution_count": 139
        }
      ]
    },
    {
      "cell_type": "code",
      "metadata": {
        "colab": {
          "base_uri": "https://localhost:8080/"
        },
        "id": "3Gz2ef3tgv3T",
        "outputId": "6287e11a-bf40-438b-9872-48274e2f99ff"
      },
      "source": [
        "df.groupby(['market','year']) ['priceMax'].max()"
      ],
      "execution_count": null,
      "outputs": [
        {
          "output_type": "execute_result",
          "data": {
            "text/plain": [
              "market      year\n",
              "ABOHAR(PB)  2005    1370\n",
              "            2006     638\n",
              "            2007    1650\n",
              "            2009    1818\n",
              "            2010    3344\n",
              "                    ... \n",
              "YEOLA(MS)   2012    1327\n",
              "            2013    5038\n",
              "            2014    2246\n",
              "            2015    4841\n",
              "            2016    1272\n",
              "Name: priceMax, Length: 1091, dtype: int64"
            ]
          },
          "metadata": {
            "tags": []
          },
          "execution_count": 137
        }
      ]
    },
    {
      "cell_type": "code",
      "metadata": {
        "id": "rVYtaUaXwA0D"
      },
      "source": [
        ""
      ],
      "execution_count": null,
      "outputs": []
    },
    {
      "cell_type": "code",
      "metadata": {
        "colab": {
          "base_uri": "https://localhost:8080/"
        },
        "id": "W2PVNCU8ha2t",
        "outputId": "5ac85c6b-c056-4bd8-9673-7069280bd89c"
      },
      "source": [
        "df_ls.groupby(['year'])['priceMax'].max()"
      ],
      "execution_count": null,
      "outputs": [
        {
          "output_type": "execute_result",
          "data": {
            "text/plain": [
              "Series([], Name: priceMax, dtype: int64)"
            ]
          },
          "metadata": {
            "tags": []
          },
          "execution_count": 133
        }
      ]
    }
  ]
}